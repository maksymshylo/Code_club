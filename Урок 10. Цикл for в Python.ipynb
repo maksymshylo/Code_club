{
 "cells": [
  {
   "cell_type": "markdown",
   "metadata": {},
   "source": [
    "_________________________________________\n",
    "На 5-му уроці було розглянуто цикл **while**.\n",
    "\n",
    "Однак це не єдиний спосіб організації в мові Python повторення групи виразів.\n",
    "\n",
    "У програмах, написаних на **Python**, широко застосовується цикл **for**, який являє собою цикл обходу заданої множини елементів (символів рядка, об'єктів списку або словника) і виконання в своєму тілі різних операцій над ними.\n",
    "\n",
    "Наприклад, якщо є список чисел, і необхідно збільшити значення кожного елемента на дві одиниці, то можна перебрати список за допомогою циклу for, виконавши над кожним його елементом відповідну дію.\n",
    "___"
   ]
  },
  {
   "cell_type": "code",
   "execution_count": 4,
   "metadata": {},
   "outputs": [],
   "source": [
    "my_list = [0,10,20,30,40,50,60,70,80,90]"
   ]
  },
  {
   "cell_type": "code",
   "execution_count": 5,
   "metadata": {},
   "outputs": [
    {
     "name": "stdout",
     "output_type": "stream",
     "text": [
      "i =  0 ; element =  0 ; 2\n",
      "i =  1 ; element =  10 ; 12\n",
      "i =  2 ; element =  20 ; 22\n",
      "i =  3 ; element =  30 ; 32\n",
      "i =  4 ; element =  40 ; 42\n",
      "i =  5 ; element =  50 ; 52\n",
      "i =  6 ; element =  60 ; 62\n",
      "i =  7 ; element =  70 ; 72\n",
      "i =  8 ; element =  80 ; 82\n",
      "i =  9 ; element =  90 ; 92\n"
     ]
    }
   ],
   "source": [
    "i = 0\n",
    "for element in my_list:\n",
    "    my_list[i] = element + 2\n",
    "    print(\"i = \",i,\";\", \"element = \", element,\";\", my_list[i])\n",
    "    i+=1"
   ]
  },
  {
   "cell_type": "code",
   "execution_count": 6,
   "metadata": {},
   "outputs": [
    {
     "data": {
      "text/plain": [
       "[2, 12, 22, 32, 42, 52, 62, 72, 82, 92]"
      ]
     },
     "execution_count": 6,
     "metadata": {},
     "output_type": "execute_result"
    }
   ],
   "source": [
    "my_list"
   ]
  },
  {
   "cell_type": "markdown",
   "metadata": {},
   "source": [
    "__________________________________\n",
    "У прикладі змінна **i** потрібна для того, щоб записати змінене значення елемента в список.\n",
    "\n",
    "У ній зберігається значення індексу чергового елементу списку. У той час, як змінна **element** зв'язується зі значенням чергового елемента даних. У заголовку циклу **for** відбувається звернення до чергового елементу списку. \n",
    "\n",
    "У тілі циклу елементу з індексом i присвоюється сума значення поточного (оброблюваного) елемента і двійки. \n",
    "\n",
    "Далі індекс збільшується на одиницю, а потік виконання програми переходить знову в заголовок циклу **for**, де відбувається звернення до іншого збігу.\n",
    "\n",
    "Коли всі елементи оброблені цикл **for** закінчує свою роботу. Відсутність чергового елемента є умовою завершення роботи циклу **for** (для порівняння: в циклі **while** умовою завершення служить результат **false** логічного виразу в заголовку). \n",
    "\n",
    "Ще один момент: якщо лічильник не збільшувати на одиницю (вираз i = i + 1), то не дивлячись на те, що всі елементи списку будуть оброблені, результат весь час буде присвоюватися першому елементу списку (з індексом 0)."
   ]
  },
  {
   "cell_type": "markdown",
   "metadata": {},
   "source": [
    "______________________________"
   ]
  },
  {
   "cell_type": "markdown",
   "metadata": {},
   "source": [
    "З таким же успіхом перебирати можна і рядки, якщо не намагатися їх при цьому змінювати:"
   ]
  },
  {
   "cell_type": "code",
   "execution_count": 9,
   "metadata": {},
   "outputs": [
    {
     "name": "stdout",
     "output_type": "stream",
     "text": [
      "п*р*и*в*і*т*"
     ]
    }
   ],
   "source": [
    "my_str = \"привіт\"\n",
    "for bukva in my_str:\n",
    "    print(bukva, end = \"*\")"
   ]
  },
  {
   "cell_type": "markdown",
   "metadata": {},
   "source": [
    "___\n",
    "Цикл **for** використовується і для роботи зі словниками:"
   ]
  },
  {
   "cell_type": "code",
   "execution_count": 17,
   "metadata": {},
   "outputs": [],
   "source": [
    "my_dict = {1:'one',2:'two',3:'three',4:'four'} "
   ]
  },
  {
   "cell_type": "code",
   "execution_count": 18,
   "metadata": {},
   "outputs": [],
   "source": [
    "for key in my_dict:\n",
    "    my_dict[key] = my_dict[key] + '!' "
   ]
  },
  {
   "cell_type": "code",
   "execution_count": 19,
   "metadata": {},
   "outputs": [
    {
     "data": {
      "text/plain": [
       "{1: 'one!', 2: 'two!', 3: 'three!', 4: 'four!'}"
      ]
     },
     "execution_count": 19,
     "metadata": {},
     "output_type": "execute_result"
    }
   ],
   "source": [
    "my_dict"
   ]
  },
  {
   "cell_type": "markdown",
   "metadata": {},
   "source": [
    "Цикл **for** широко використовується в мові програмування **Python**, тому що є важливим інструментом при обробки структур даних.\n",
    "\n",
    "Також слід запам'ятати, що цикл **for** в Пітоні *особливий*.\n",
    "\n",
    "#### Він не є аналогом циклів for в багатьох інших мовах програмування, де є, так званий, цикл з лічильником."
   ]
  },
  {
   "cell_type": "code",
   "execution_count": 23,
   "metadata": {},
   "outputs": [],
   "source": [
    "spysok = [0, \"right\", 134, \"go\"]"
   ]
  },
  {
   "cell_type": "code",
   "execution_count": 24,
   "metadata": {},
   "outputs": [],
   "source": [
    "i = 0\n",
    "for element in spysok:\n",
    "    spysok[i] = element*2"
   ]
  },
  {
   "cell_type": "code",
   "execution_count": 25,
   "metadata": {},
   "outputs": [
    {
     "data": {
      "text/plain": [
       "['gogo', 'right', 134, 'go']"
      ]
     },
     "execution_count": 25,
     "metadata": {},
     "output_type": "execute_result"
    }
   ],
   "source": [
    "spysok"
   ]
  },
  {
   "cell_type": "markdown",
   "metadata": {},
   "source": [
    "Але якщо ми змушені використовувати лічильник, то вигода від використання циклу **for** не очевидна. \n",
    "\n",
    "Якщо знати довжину списку, то чому б не скористатися **while**.\n",
    "\n",
    "Довжину можна виміряти за допомогою вбудованої в Python функції **len ( )**."
   ]
  },
  {
   "cell_type": "code",
   "execution_count": 27,
   "metadata": {},
   "outputs": [],
   "source": [
    "spysok = [0, \"right\", 134, \"go\"]\n",
    "i = 0\n",
    "while i < len(spysok):\n",
    "    spysok[i] = spysok[i]*2 # або spisok += 2\n",
    "    i = i + 1 # або i += 1"
   ]
  },
  {
   "cell_type": "code",
   "execution_count": 28,
   "metadata": {},
   "outputs": [
    {
     "data": {
      "text/plain": [
       "[0, 'rightright', 268, 'gogo']"
      ]
     },
     "execution_count": 28,
     "metadata": {},
     "output_type": "execute_result"
    }
   ],
   "source": [
    "spysok"
   ]
  },
  {
   "cell_type": "markdown",
   "metadata": {},
   "source": [
    "Крім того, з циклом while ми позбулися змінної **element**"
   ]
  },
  {
   "cell_type": "markdown",
   "metadata": {},
   "source": [
    "___\n",
    "## Функція **range ( )** "
   ]
  },
  {
   "cell_type": "markdown",
   "metadata": {},
   "source": [
    "Тепер прийшов час познайомитися з вбудованою в Python функцією **range ()**.\n",
    "\n",
    "\n",
    "#### \"Range\" перекладається як \"діапазон\".\n",
    "\n",
    "Вона може приймати один, два або три аргументи.\n",
    "\n",
    "Якщо заданий тільки один, то генеруються числа від 0 до зазначеного числа, не включаючи його. \n",
    "\n",
    "Якщо задані два, то числа генеруються від першого до другого, не включаючи його.\n",
    "\n",
    "Якщо задані три, то третє число - це крок.\n",
    "\n",
    "**range()** генерує послідовність чисел у вказаному діапазоні.\n",
    "\n",
    "Так, range (5, 11) згенерує послідовність 5, 6, 7, 8, 9, 10. \n",
    "\n",
    "####  Однак це буде не структура даних типу \"список\". Функція range () виробляє об'єкти свого класу - діапазони:"
   ]
  },
  {
   "cell_type": "code",
   "execution_count": 30,
   "metadata": {},
   "outputs": [
    {
     "data": {
      "text/plain": [
       "range(-10, 10)"
      ]
     },
     "execution_count": 30,
     "metadata": {},
     "output_type": "execute_result"
    }
   ],
   "source": [
    "range(-10, 10)"
   ]
  },
  {
   "cell_type": "code",
   "execution_count": 31,
   "metadata": {},
   "outputs": [
    {
     "ename": "TypeError",
     "evalue": "'float' object cannot be interpreted as an integer",
     "output_type": "error",
     "traceback": [
      "\u001b[1;31m---------------------------------------------------------------------------\u001b[0m",
      "\u001b[1;31mTypeError\u001b[0m                                 Traceback (most recent call last)",
      "\u001b[1;32m<ipython-input-31-8379ecc0ca2d>\u001b[0m in \u001b[0;36m<module>\u001b[1;34m\u001b[0m\n\u001b[1;32m----> 1\u001b[1;33m \u001b[0mrange\u001b[0m\u001b[1;33m(\u001b[0m\u001b[1;36m0\u001b[0m\u001b[1;33m,\u001b[0m\u001b[1;36m4\u001b[0m\u001b[1;33m,\u001b[0m\u001b[1;36m0.2\u001b[0m\u001b[1;33m)\u001b[0m\u001b[1;33m\u001b[0m\u001b[1;33m\u001b[0m\u001b[0m\n\u001b[0m",
      "\u001b[1;31mTypeError\u001b[0m: 'float' object cannot be interpreted as an integer"
     ]
    }
   ],
   "source": [
    "range(0,4,0.2)"
   ]
  },
  {
   "cell_type": "code",
   "execution_count": 32,
   "metadata": {},
   "outputs": [
    {
     "data": {
      "text/plain": [
       "range(-6, 7, 2)"
      ]
     },
     "execution_count": 32,
     "metadata": {},
     "output_type": "execute_result"
    }
   ],
   "source": [
    "range(-6,7,2) # третій аргумент це крок "
   ]
  },
  {
   "cell_type": "code",
   "execution_count": 33,
   "metadata": {},
   "outputs": [],
   "source": [
    "a = range(-10, 10)"
   ]
  },
  {
   "cell_type": "code",
   "execution_count": 34,
   "metadata": {},
   "outputs": [
    {
     "data": {
      "text/plain": [
       "range"
      ]
     },
     "execution_count": 34,
     "metadata": {},
     "output_type": "execute_result"
    }
   ],
   "source": [
    "type(a)"
   ]
  },
  {
   "cell_type": "markdown",
   "metadata": {},
   "source": [
    "___\n",
    "#### Незважаючи на те, що ми не бачимо послідовності чисел, вона є, і ми можемо звертатися до її елементів:"
   ]
  },
  {
   "cell_type": "code",
   "execution_count": 35,
   "metadata": {},
   "outputs": [
    {
     "data": {
      "text/plain": [
       "-10"
      ]
     },
     "execution_count": 35,
     "metadata": {},
     "output_type": "execute_result"
    }
   ],
   "source": [
    "a[0]"
   ]
  },
  {
   "cell_type": "code",
   "execution_count": 36,
   "metadata": {},
   "outputs": [
    {
     "data": {
      "text/plain": [
       "-9"
      ]
     },
     "execution_count": 36,
     "metadata": {},
     "output_type": "execute_result"
    }
   ],
   "source": [
    "a[1]"
   ]
  },
  {
   "cell_type": "code",
   "execution_count": 37,
   "metadata": {},
   "outputs": [
    {
     "data": {
      "text/plain": [
       "-8"
      ]
     },
     "execution_count": 37,
     "metadata": {},
     "output_type": "execute_result"
    }
   ],
   "source": [
    "a[2]"
   ]
  },
  {
   "cell_type": "code",
   "execution_count": 53,
   "metadata": {},
   "outputs": [
    {
     "data": {
      "text/plain": [
       "9"
      ]
     },
     "execution_count": 53,
     "metadata": {},
     "output_type": "execute_result"
    }
   ],
   "source": [
    "a[19]"
   ]
  },
  {
   "cell_type": "code",
   "execution_count": 54,
   "metadata": {},
   "outputs": [
    {
     "ename": "IndexError",
     "evalue": "range object index out of range",
     "output_type": "error",
     "traceback": [
      "\u001b[1;31m---------------------------------------------------------------------------\u001b[0m",
      "\u001b[1;31mIndexError\u001b[0m                                Traceback (most recent call last)",
      "\u001b[1;32m<ipython-input-54-2ba6acdce15e>\u001b[0m in \u001b[0;36m<module>\u001b[1;34m()\u001b[0m\n\u001b[1;32m----> 1\u001b[1;33m \u001b[0ma\u001b[0m\u001b[1;33m[\u001b[0m\u001b[1;36m20\u001b[0m\u001b[1;33m]\u001b[0m\u001b[1;33m\u001b[0m\u001b[0m\n\u001b[0m",
      "\u001b[1;31mIndexError\u001b[0m: range object index out of range"
     ]
    }
   ],
   "source": [
    "a[20]"
   ]
  },
  {
   "cell_type": "markdown",
   "metadata": {},
   "source": [
    "___\n",
    "### Хоча змінювати їх не можна, так як, на відміну від списків, об'єкти range () відносяться до групи незмінних:"
   ]
  },
  {
   "cell_type": "code",
   "execution_count": 55,
   "metadata": {},
   "outputs": [
    {
     "ename": "TypeError",
     "evalue": "'range' object does not support item assignment",
     "output_type": "error",
     "traceback": [
      "\u001b[1;31m---------------------------------------------------------------------------\u001b[0m",
      "\u001b[1;31mTypeError\u001b[0m                                 Traceback (most recent call last)",
      "\u001b[1;32m<ipython-input-55-ffba0eca9f8b>\u001b[0m in \u001b[0;36m<module>\u001b[1;34m()\u001b[0m\n\u001b[1;32m----> 1\u001b[1;33m \u001b[0ma\u001b[0m\u001b[1;33m[\u001b[0m\u001b[1;36m20\u001b[0m\u001b[1;33m]\u001b[0m \u001b[1;33m=\u001b[0m \u001b[1;36m10\u001b[0m\u001b[1;33m\u001b[0m\u001b[0m\n\u001b[0m",
      "\u001b[1;31mTypeError\u001b[0m: 'range' object does not support item assignment"
     ]
    }
   ],
   "source": [
    "a[20] = 10"
   ]
  },
  {
   "cell_type": "markdown",
   "metadata": {},
   "source": [
    "___\n",
    "## Цикл for і range( )"
   ]
  },
  {
   "cell_type": "markdown",
   "metadata": {},
   "source": [
    "#### Отже, навіщо нам знадобилася функцій range () в темі про цикл for?\n",
    "\n",
    "Справа в тому, що разом вони утворюють непоганий тандем.\n",
    "\n",
    "**for** як цикл перебору елементів, на відміну від **while**, дозволяє не стежити за тим, чи досягнуто кінець структури.\n",
    "\n",
    "Не треба вводити лічильник для цього, змінювати його і перевіряти умову в заголовку. \n",
    "\n",
    "З іншого боку, **range ()** дає послідовність чисел, які можна використовувати як індекси для елементів того ж списку."
   ]
  },
  {
   "cell_type": "code",
   "execution_count": 38,
   "metadata": {},
   "outputs": [
    {
     "data": {
      "text/plain": [
       "range(0, 4)"
      ]
     },
     "execution_count": 38,
     "metadata": {},
     "output_type": "execute_result"
    }
   ],
   "source": [
    "spisok = [0, 1, 9, 3]\n",
    "range(len(spisok)) # в даному випадку перший аргумент(нуль) є необов'язковим для напису, Пайтон сам розуміє, що довжина списку завжди > 0, тому і ставить за замовчуванням відлік від нуля"
   ]
  },
  {
   "cell_type": "markdown",
   "metadata": {},
   "source": [
    "Тут за допомогою функції **len ()** вимірюється довжина списку.\n",
    "\n",
    "В даному випадку вона дорівнює чотирьом.\n",
    "\n",
    "Після цього число 4 передається в функцію **range ()**, і вона генерує послідовність **ЦІЛИХ**  чисел **від 0 до 3 включно**. \n",
    "\n",
    "Це як раз індекси елементів нашого списку."
   ]
  },
  {
   "cell_type": "code",
   "execution_count": 64,
   "metadata": {},
   "outputs": [],
   "source": [
    "for i in range(len(spisok)):\n",
    "    spisok[i] = spisok[i]+ 2"
   ]
  },
  {
   "cell_type": "code",
   "execution_count": 65,
   "metadata": {},
   "outputs": [
    {
     "data": {
      "text/plain": [
       "[4, 5, 13, 7]"
      ]
     },
     "execution_count": 65,
     "metadata": {},
     "output_type": "execute_result"
    }
   ],
   "source": [
    "spisok"
   ]
  },
  {
   "cell_type": "markdown",
   "metadata": {},
   "source": [
    "У заголовку циклу **for** беруться елементи зовсім не списку, а об'єкта **range**. \n",
    "\n",
    "Список, елементи якого планується перезаписувати, тут по-суті не фігурує.\n",
    "\n",
    "Якщо заздалегідь знати довжину списку, то заголовок може виглядати так: \n",
    "\n",
    "**for i in range (4)**.\n",
    "\n",
    "Те, як використовується i в тілі циклу, питання друге.\n",
    "\n",
    "* Примітка. Замість ідентифікатора **i** може бути будь-який інший."
   ]
  },
  {
   "cell_type": "markdown",
   "metadata": {},
   "source": [
    "### Домашня робота\n",
    "___\n",
    "\n",
    "1. Створіть список, що складається з чотирьох рядків. Потім, за допомогою циклу **for**, виведіть рядки по черзі на екран. \n",
    "\n",
    "\n",
    "2. Змініть попередню програму так, щоб в кінці кожної букви рядка додавалося тире. \n",
    "(Підказка: цикл **for** може бути вкладений в інший цикл.) \n",
    "\n",
    "\n",
    "3. Створіть список, що містить елементи цілочисельного типу, потім за допомогою циклу перебору змініть тип даних елементів на числа з плаваючою крапкою.\n",
    "(Примітка: використовуйте вбудовану функцію float ().)\n",
    "\n",
    "\n",
    "4. Створіть список, що складається з позитивних і негативних чисел, порахуйте кількість негативних елементів. Виведіть результат на екран.\n",
    "\n",
    "\n",
    "5. Напишіть програму, яка заповнює список п'ятьма словами, введеними з клавіатури, вимірює довжину кожного слова і додає отримане значення в інший список. Наприклад, список слів - **[ 'yes', 'no', 'maybe', 'ok', 'what']**, список довжин - **[3, 2, 5, 2, 4]**. Обидва списки повинні виводитися на екран."
   ]
  }
 ],
 "metadata": {
  "kernelspec": {
   "display_name": "Python 3",
   "language": "python",
   "name": "python3"
  },
  "language_info": {
   "codemirror_mode": {
    "name": "ipython",
    "version": 3
   },
   "file_extension": ".py",
   "mimetype": "text/x-python",
   "name": "python",
   "nbconvert_exporter": "python",
   "pygments_lexer": "ipython3",
   "version": "3.7.1"
  }
 },
 "nbformat": 4,
 "nbformat_minor": 2
}
