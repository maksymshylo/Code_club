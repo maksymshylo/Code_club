{
 "cells": [
  {
   "cell_type": "markdown",
   "metadata": {},
   "source": [
    "### Словникиу мові Python - це щось зовсім інше (за висловом Монті Пайтона) вони взагалі не є послідовностями, це те, що відомо як відображення.\n",
    "\n",
    "**Відображення** - це колекції об'єктів, але доступ до них здійснюється не за певними зсувам(зрізами) від початку колекції, а по ключам.\n",
    "\n",
    "Насправді відображення взагалі не мають на увазі будь-якого впорядкування елементів по їх позиції, вони просто відображають ключі на пов'язані з ними значення. \n",
    "\n",
    "Словники - єдиний тип відображення в наборі базових об'єктів Python - також відносяться до класу змінних об'єктів: вони можуть змінюватися безпосередньо і в разі необхідності можуть збільшуватися і зменшуватися в розмірах подібно списками.\n",
    "\n",
    "\n",
    "\n",
    "\n",
    "\n",
    " **Словник** (англ. *dictionary*) - це *змінюваний* (як і список) **невпорядкований** (на відміну від рядків і списків) набір пар \"*ключ* : **значення**\"\n",
    "\n",
    "Щоб уявлення про словник стало більш зрозумілішим, можна провести аналогію  зі звичайним словником, наприклад англо-українським. \n",
    "\n",
    "На кожне англійське слово в такому словнику є переклад на українське слово:\n",
    "- cat - кішка,\n",
    "- dog - собака, \n",
    "- table - стіл, \n",
    "і т.д\n",
    "\n",
    "Якщо англо-український словник описувати за допомогою Пайтона , то англійські слова будуть **ключами**, а українські - їх  **значеннями**.\n",
    "\n",
    "\n",
    "### {'cat':'кішка', 'dog':'пес', 'bird':'птиця', 'mouse': 'миша'}\n",
    "\n",
    "\n",
    "Зверніть увагу на фігурні дужки, саме завдяки  ним визначається **словник**.\n",
    "\n",
    "Синтаксис словника в Пайтоні можна описати такою схемою:\n",
    "\n",
    "## { ключ: *значення*, ключ: *значення*, ключ: *значення*, ключ: *значення*,... }\n",
    "\n"
   ]
  },
  {
   "cell_type": "code",
   "execution_count": 16,
   "metadata": {},
   "outputs": [],
   "source": [
    "slovnyk = {'cat':'кішка', 'dog':'пес', 'bird':'птиця', 'mouse': 'миша'}"
   ]
  },
  {
   "cell_type": "code",
   "execution_count": 19,
   "metadata": {},
   "outputs": [
    {
     "data": {
      "text/plain": [
       "dict"
      ]
     },
     "execution_count": 19,
     "metadata": {},
     "output_type": "execute_result"
    }
   ],
   "source": [
    "type (slovnyk)"
   ]
  },
  {
   "cell_type": "markdown",
   "metadata": {},
   "source": [
    "## Створення словника"
   ]
  },
  {
   "cell_type": "code",
   "execution_count": 24,
   "metadata": {},
   "outputs": [],
   "source": [
    "d = {}"
   ]
  },
  {
   "cell_type": "code",
   "execution_count": 25,
   "metadata": {},
   "outputs": [
    {
     "data": {
      "text/plain": [
       "{}"
      ]
     },
     "execution_count": 25,
     "metadata": {},
     "output_type": "execute_result"
    }
   ],
   "source": [
    "d"
   ]
  },
  {
   "cell_type": "code",
   "execution_count": 26,
   "metadata": {},
   "outputs": [],
   "source": [
    "g = dict()"
   ]
  },
  {
   "cell_type": "code",
   "execution_count": 27,
   "metadata": {},
   "outputs": [
    {
     "data": {
      "text/plain": [
       "{}"
      ]
     },
     "execution_count": 27,
     "metadata": {},
     "output_type": "execute_result"
    }
   ],
   "source": [
    "g"
   ]
  },
  {
   "cell_type": "markdown",
   "metadata": {},
   "source": [
    "## Операції над словниками "
   ]
  },
  {
   "cell_type": "markdown",
   "metadata": {},
   "source": [
    "Коли словник визначається як літерал, програмний код вираз заносить у фігурні дужки і складається з послідовності пар «ключ: значення». \n",
    "\n",
    "Словники зручно використовувати завжди, коли виникає необхідність зв'язати значення з ключами, наприклад щоб описати властивості будь чого. Як приклад розглянемо наступний словник:"
   ]
  },
  {
   "cell_type": "code",
   "execution_count": 1,
   "metadata": {},
   "outputs": [],
   "source": [
    "f = {'cat':'кішка', 'dog':'пес'}"
   ]
  },
  {
   "cell_type": "code",
   "execution_count": 2,
   "metadata": {},
   "outputs": [
    {
     "ename": "KeyError",
     "evalue": "0",
     "output_type": "error",
     "traceback": [
      "\u001b[0;31m---------------------------------------------------------------------------\u001b[0m",
      "\u001b[0;31mKeyError\u001b[0m                                  Traceback (most recent call last)",
      "\u001b[0;32m<ipython-input-2-d8711d29ed7d>\u001b[0m in \u001b[0;36m<module>\u001b[0;34m()\u001b[0m\n\u001b[0;32m----> 1\u001b[0;31m \u001b[0mf\u001b[0m\u001b[0;34m[\u001b[0m\u001b[0;36m0\u001b[0m\u001b[0;34m]\u001b[0m\u001b[0;34m\u001b[0m\u001b[0m\n\u001b[0m",
      "\u001b[0;31mKeyError\u001b[0m: 0"
     ]
    }
   ],
   "source": [
    "f[0]"
   ]
  },
  {
   "cell_type": "code",
   "execution_count": 3,
   "metadata": {},
   "outputs": [
    {
     "ename": "TypeError",
     "evalue": "unhashable type: 'slice'",
     "output_type": "error",
     "traceback": [
      "\u001b[0;31m---------------------------------------------------------------------------\u001b[0m",
      "\u001b[0;31mTypeError\u001b[0m                                 Traceback (most recent call last)",
      "\u001b[0;32m<ipython-input-3-8855f9206dc1>\u001b[0m in \u001b[0;36m<module>\u001b[0;34m()\u001b[0m\n\u001b[0;32m----> 1\u001b[0;31m \u001b[0mf\u001b[0m\u001b[0;34m[\u001b[0m\u001b[0;36m1\u001b[0m\u001b[0;34m:\u001b[0m\u001b[0;36m2\u001b[0m\u001b[0;34m]\u001b[0m\u001b[0;34m\u001b[0m\u001b[0m\n\u001b[0m",
      "\u001b[0;31mTypeError\u001b[0m: unhashable type: 'slice'"
     ]
    }
   ],
   "source": [
    "f[1:2]"
   ]
  },
  {
   "cell_type": "code",
   "execution_count": 4,
   "metadata": {},
   "outputs": [],
   "source": [
    "g = {'bird':'птиця', 'mouse': 'миша'}"
   ]
  },
  {
   "cell_type": "code",
   "execution_count": 5,
   "metadata": {},
   "outputs": [
    {
     "ename": "TypeError",
     "evalue": "unsupported operand type(s) for +: 'dict' and 'dict'",
     "output_type": "error",
     "traceback": [
      "\u001b[0;31m---------------------------------------------------------------------------\u001b[0m",
      "\u001b[0;31mTypeError\u001b[0m                                 Traceback (most recent call last)",
      "\u001b[0;32m<ipython-input-5-2a89ff93ddc1>\u001b[0m in \u001b[0;36m<module>\u001b[0;34m()\u001b[0m\n\u001b[0;32m----> 1\u001b[0;31m \u001b[0mf\u001b[0m \u001b[0;34m+\u001b[0m \u001b[0mg\u001b[0m\u001b[0;34m\u001b[0m\u001b[0m\n\u001b[0m",
      "\u001b[0;31mTypeError\u001b[0m: unsupported operand type(s) for +: 'dict' and 'dict'"
     ]
    }
   ],
   "source": [
    "f + g"
   ]
  },
  {
   "cell_type": "code",
   "execution_count": 6,
   "metadata": {},
   "outputs": [
    {
     "ename": "TypeError",
     "evalue": "unsupported operand type(s) for /: 'dict' and 'dict'",
     "output_type": "error",
     "traceback": [
      "\u001b[0;31m---------------------------------------------------------------------------\u001b[0m",
      "\u001b[0;31mTypeError\u001b[0m                                 Traceback (most recent call last)",
      "\u001b[0;32m<ipython-input-6-26fb87c0ad46>\u001b[0m in \u001b[0;36m<module>\u001b[0;34m()\u001b[0m\n\u001b[0;32m----> 1\u001b[0;31m \u001b[0mf\u001b[0m\u001b[0;34m/\u001b[0m\u001b[0mg\u001b[0m\u001b[0;34m\u001b[0m\u001b[0m\n\u001b[0m",
      "\u001b[0;31mTypeError\u001b[0m: unsupported operand type(s) for /: 'dict' and 'dict'"
     ]
    }
   ],
   "source": [
    "f/g"
   ]
  },
  {
   "cell_type": "code",
   "execution_count": 7,
   "metadata": {},
   "outputs": [
    {
     "ename": "TypeError",
     "evalue": "unsupported operand type(s) for ** or pow(): 'dict' and 'dict'",
     "output_type": "error",
     "traceback": [
      "\u001b[0;31m---------------------------------------------------------------------------\u001b[0m",
      "\u001b[0;31mTypeError\u001b[0m                                 Traceback (most recent call last)",
      "\u001b[0;32m<ipython-input-7-54d401569d3e>\u001b[0m in \u001b[0;36m<module>\u001b[0;34m()\u001b[0m\n\u001b[0;32m----> 1\u001b[0;31m \u001b[0mf\u001b[0m\u001b[0;34m**\u001b[0m\u001b[0mg\u001b[0m\u001b[0;34m\u001b[0m\u001b[0m\n\u001b[0m",
      "\u001b[0;31mTypeError\u001b[0m: unsupported operand type(s) for ** or pow(): 'dict' and 'dict'"
     ]
    }
   ],
   "source": [
    "f**g"
   ]
  },
  {
   "cell_type": "code",
   "execution_count": 9,
   "metadata": {},
   "outputs": [
    {
     "ename": "KeyError",
     "evalue": "0",
     "output_type": "error",
     "traceback": [
      "\u001b[0;31m---------------------------------------------------------------------------\u001b[0m",
      "\u001b[0;31mKeyError\u001b[0m                                  Traceback (most recent call last)",
      "\u001b[0;32m<ipython-input-9-73ec0726ff88>\u001b[0m in \u001b[0;36m<module>\u001b[0;34m()\u001b[0m\n\u001b[0;32m----> 1\u001b[0;31m \u001b[0mg\u001b[0m\u001b[0;34m[\u001b[0m\u001b[0;36m0\u001b[0m\u001b[0;34m]\u001b[0m\u001b[0;34m\u001b[0m\u001b[0m\n\u001b[0m",
      "\u001b[0;31mKeyError\u001b[0m: 0"
     ]
    }
   ],
   "source": [
    "g[0]"
   ]
  },
  {
   "cell_type": "markdown",
   "metadata": {},
   "source": [
    "Як ви бачите, ми не можемо отримати доступ до якогось елементу зі словнику, так як же ортимати доступ до конкретного елементу, якщо індексація не можлива в принципі?.\n",
    "\n",
    "**Відповідь:**\n",
    "\n",
    "\n",
    "Ми можемо звертатися до елементів цього словника по ключам і змінювати значення, пов'язані з ключами.\n",
    "\n",
    "Для доступу до елементів словника використовується той же синтаксис, який використовується для звернення до елементів послідовностей, тільки в квадратних дужках вказується не індекс, а ключ:"
   ]
  },
  {
   "cell_type": "code",
   "execution_count": 11,
   "metadata": {},
   "outputs": [
    {
     "data": {
      "text/plain": [
       "'птиця'"
      ]
     },
     "execution_count": 11,
     "metadata": {},
     "output_type": "execute_result"
    }
   ],
   "source": [
    "g['bird']"
   ]
  },
  {
   "cell_type": "code",
   "execution_count": 12,
   "metadata": {},
   "outputs": [
    {
     "data": {
      "text/plain": [
       "'миша'"
      ]
     },
     "execution_count": 12,
     "metadata": {},
     "output_type": "execute_result"
    }
   ],
   "source": [
    "g['mouse']"
   ]
  },
  {
   "cell_type": "markdown",
   "metadata": {},
   "source": [
    "Словники як і спискі, є змінним типом даних: можна змінювати, додавати і видаляти  елементи (пари ключ: *значення*).\n",
    "\n",
    "Видалення елементу відбувається за допомогою функції **del( )**"
   ]
  },
  {
   "cell_type": "code",
   "execution_count": 14,
   "metadata": {},
   "outputs": [
    {
     "data": {
      "text/plain": [
       "{1: 'один', 2: 'два', 3: 'три'}"
      ]
     },
     "execution_count": 14,
     "metadata": {},
     "output_type": "execute_result"
    }
   ],
   "source": [
    "dic = {1:\"один\", 2: \"два\", 3: \"три\"}\n",
    "dic"
   ]
  },
  {
   "cell_type": "code",
   "execution_count": 15,
   "metadata": {},
   "outputs": [],
   "source": [
    "dic[4] = 'чотири' # додавання елемента"
   ]
  },
  {
   "cell_type": "code",
   "execution_count": 16,
   "metadata": {},
   "outputs": [
    {
     "data": {
      "text/plain": [
       "{1: 'один', 2: 'два', 3: 'три', 4: 'чотири'}"
      ]
     },
     "execution_count": 16,
     "metadata": {},
     "output_type": "execute_result"
    }
   ],
   "source": [
    "dic"
   ]
  },
  {
   "cell_type": "code",
   "execution_count": 17,
   "metadata": {},
   "outputs": [],
   "source": [
    "del(dic[4])"
   ]
  },
  {
   "cell_type": "code",
   "execution_count": 18,
   "metadata": {},
   "outputs": [
    {
     "data": {
      "text/plain": [
       "{1: 'один', 2: 'два', 3: 'три'}"
      ]
     },
     "execution_count": 18,
     "metadata": {},
     "output_type": "execute_result"
    }
   ],
   "source": [
    "dic"
   ]
  },
  {
   "cell_type": "code",
   "execution_count": 19,
   "metadata": {},
   "outputs": [],
   "source": [
    "y = {10:[3,2,8], 100:[1,10,5], 1000:[23,1,5]}"
   ]
  },
  {
   "cell_type": "code",
   "execution_count": 20,
   "metadata": {},
   "outputs": [],
   "source": [
    "del(y[100])"
   ]
  },
  {
   "cell_type": "code",
   "execution_count": 21,
   "metadata": {},
   "outputs": [
    {
     "data": {
      "text/plain": [
       "{10: [3, 2, 8], 1000: [23, 1, 5]}"
      ]
     },
     "execution_count": 21,
     "metadata": {},
     "output_type": "execute_result"
    }
   ],
   "source": [
    "y"
   ]
  },
  {
   "cell_type": "markdown",
   "metadata": {},
   "source": [
    "## Про вкладеність\n",
    "Припустимо, що інформація має більш складну структуру. Можливо, доведеться записати ім'я і прізвище, а також кілька назв посад, займаних одночасно. Це призводить до необхідності використання вкладених об'єктів Python. Словник в наступному прикладі визначено у вигляді литерала і має більш складну структуру:"
   ]
  },
  {
   "cell_type": "code",
   "execution_count": 2,
   "metadata": {},
   "outputs": [],
   "source": [
    "rec = {'name': {'first': 'Bob', 'last': 'Smith'},\n",
    "       'job': ['dev', 'mgr'],\n",
    "       'age': 40.5}\n"
   ]
  },
  {
   "cell_type": "markdown",
   "metadata": {},
   "source": [
    "Тут ми знову маємо словник, що містить три ключа верхнього рівня (ключі «name» (ім'я), «job» (посаду) і «age» (вік)), проте значення мають більш складну структуру: для опису імені людини використовується вкладений словник, щоб забезпечити підтримку імен, що складаються з декількох частин, і для перерахування займаних посад використовується вкладений список, що забезпечить можливість розширення в майбутньому."
   ]
  },
  {
   "cell_type": "code",
   "execution_count": 3,
   "metadata": {},
   "outputs": [
    {
     "data": {
      "text/plain": [
       "{'first': 'Bob', 'last': 'Smith'}"
      ]
     },
     "execution_count": 3,
     "metadata": {},
     "output_type": "execute_result"
    }
   ],
   "source": [
    "rec['name'] # name це вкладений словник"
   ]
  },
  {
   "cell_type": "code",
   "execution_count": 5,
   "metadata": {},
   "outputs": [
    {
     "data": {
      "text/plain": [
       "'Smith'"
      ]
     },
     "execution_count": 5,
     "metadata": {},
     "output_type": "execute_result"
    }
   ],
   "source": [
    "rec['name']['last'] # Звернення до елементу вкладеного словника"
   ]
  },
  {
   "cell_type": "code",
   "execution_count": 7,
   "metadata": {},
   "outputs": [
    {
     "data": {
      "text/plain": [
       "['dev', 'mgr']"
      ]
     },
     "execution_count": 7,
     "metadata": {},
     "output_type": "execute_result"
    }
   ],
   "source": [
    "rec['job'] # job це вкладений список"
   ]
  },
  {
   "cell_type": "code",
   "execution_count": 8,
   "metadata": {},
   "outputs": [
    {
     "data": {
      "text/plain": [
       "'mgr'"
      ]
     },
     "execution_count": 8,
     "metadata": {},
     "output_type": "execute_result"
    }
   ],
   "source": [
    "rec['job'][-1] # Звернення до елементу вкладеного списку"
   ]
  },
  {
   "cell_type": "code",
   "execution_count": 9,
   "metadata": {},
   "outputs": [],
   "source": [
    "rec['job'].append('SEO') # Збільшення списку посад Боба"
   ]
  },
  {
   "cell_type": "code",
   "execution_count": 10,
   "metadata": {},
   "outputs": [
    {
     "data": {
      "text/plain": [
       "{'name': {'first': 'Bob', 'last': 'Smith'},\n",
       " 'job': ['dev', 'mgr', 'SEO'],\n",
       " 'age': 40.5}"
      ]
     },
     "execution_count": 10,
     "metadata": {},
     "output_type": "execute_result"
    }
   ],
   "source": [
    "rec"
   ]
  },
  {
   "cell_type": "markdown",
   "metadata": {},
   "source": [
    "### Зверніть увагу, як остання операція в цьому прикладі виконує розширення вкладеного списку.\n",
    "\n",
    "Так як список посад - це окремий від словника область у пам'яті, він може збільшуватися і зменшуватися без яких-небудь обмежень.\n",
    "\n",
    "Основна мета демонстрації цього прикладу полягає в тому, щоб показати вам гнучкість базових типів даних в мові Python. Тут ви можете бачити, що можливість вкладення дозволяє легко відтворювати досить складні структури даних. \n",
    "\n",
    "Для створення подібної структури на мові **C** треба було б докласти більше зусиль і написати більше програмного коду: нам довелося б описати і оголосити структури і масиви, заповнити їх значеннями, зв'язати їх між собою і так далі.\n",
    "\n",
    "У мові **Python** все це робиться автоматично - запуск виразу призводить до створення всієї структури вкладених об'єктів. Фактично це одне з основних переваг мов сценаріїв, таких як Python."
   ]
  },
  {
   "cell_type": "markdown",
   "metadata": {},
   "source": [
    "## Зауваження щодо використання словників \n",
    "\n",
    "Словники виявляться досить простими у використанні, коли ви освоїте роботу з ними, але я хочу навести кілька міркувань, які вам слід твердо знати:\n",
    "\n",
    "• ***Операції над послідовностями незастосовні до словників.***\n",
    "\n",
    "Словники - це відображення, а не послідовності. Внаслідок того, що словники не передбачають ніякого упорядкування елементів, такі операції, як конкатенація (впорядковане об'єднання) і витяг зрізу (витяг безперервного блоку елементів), просто незастосовні. Насправді, коли в програмному коді під час виконання проводиться спроба зробити щось подібне, інтерпретатор видає повідомлення про помилку.\n",
    "\n",
    "• ***Присвоєння за неіснуючою індексу призводить до створення нового елемента.***\n",
    "\n",
    "Ключі можна створювати при визначенні словника у вигляді литерала (в цьому випадку вони вбудовуються безпосередньо в літерал) або при присвоєнні значення новому ключу існуючого об'єкта словника. Результат виходить той же самий.\n",
    "\n",
    "• ***Ключі не обов'язково повинні бути рядками.***\n",
    "\n",
    "У наших прикладах як ключі використовувалися рядки, але можуть використовуватися будь-які інші незмінні об'єкти (тобто не списки). Наприклад, в якості ключів допустимо використовувати цілі числа, що перетворює словник на ніби список (як мінімум, в сенсі індексування). Як ключі можна також використовувати кортежі, що дозволяє створювати складові ключі."
   ]
  },
  {
   "cell_type": "markdown",
   "metadata": {},
   "source": [
    "## Домашня робота\n",
    "\n",
    "1. Створіть словник , зв'язавши його зы змынною school, і наповніть його данними, якы б відображали кількість учнів в десяти різних класах (наприклад 1a, 1b, 6a, 7b і т.д)\n",
    "\n",
    "2. Дізнайтеся скільки чоловік в якомусь із класів.\n",
    "\n",
    "3. Уявіть, що в школі відбулись  зміни, внесіть їх  в словник: \n",
    "\n",
    "  - у трьох класах змінилась кількість учнів.\n",
    "\n",
    "  - у школі з'явилось два нових класа.\n",
    "\n",
    "  - у школі розформували один із класів.\n",
    "\n",
    "\n",
    "4. Виведіть вміст словника на екран."
   ]
  }
 ],
 "metadata": {
  "kernelspec": {
   "display_name": "Python 3",
   "language": "python",
   "name": "python3"
  },
  "language_info": {
   "codemirror_mode": {
    "name": "ipython",
    "version": 3
   },
   "file_extension": ".py",
   "mimetype": "text/x-python",
   "name": "python",
   "nbconvert_exporter": "python",
   "pygments_lexer": "ipython3",
   "version": "3.7.1"
  }
 },
 "nbformat": 4,
 "nbformat_minor": 2
}
