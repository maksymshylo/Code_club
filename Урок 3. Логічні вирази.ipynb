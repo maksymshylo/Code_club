{
 "cells": [
  {
   "cell_type": "markdown",
   "metadata": {},
   "source": [
    "Часто в реальному житті ми погоджуємося або заперечуємо те чи інше твердження, подія, факт.\n",
    "\n",
    "Наприклад, \"Сума чисел 3 і 5 більше 7\" є правдивим твердженням, а \"Сума чисел 3 і 5 менше 7\" - хибним.\n",
    "\n",
    "Можна помітити, що з точки зору логіки подібні фрази припускають тільки два результати: \"Так\" (правда) і \"Ні\" (неправда).\n",
    "\n",
    "Подібне використовується в програмуванні: якщо результатом обчислення виразу може бути лише істина або брехня, то такий вислів називається логічним.\n",
    "\n",
    "На минулому уроці були описані три типи даних: цілі, дробові числа, а також рядки. Також виділяють логічний тип даних, або bool. У цього типу всього два можливих значення: True (правда) - 1 і False (брехня) - 0. Тільки ці значення можуть бути результатом логічних виразів.\n",
    "\n",
    "Говорячи на природній мові (наприклад, українською) ми позначаємо порівняння словами \"дорівнює\", \"більше\", \"менше\".\n",
    "\n",
    "У мовах програмування використовуються спеціальні знаки, подібні до тих, які використовуються в математичних виразах:\n",
    "- \"  >(більше)  \"\n",
    "- \"  < (менше)  \"\n",
    "- \"  >= (більше або дорівнює)  \"\n",
    "- \"  <= (менше або дорівнює)   \"\n",
    "- \"  == (порівняння або рівність)   \"       # не плутати із (=) присвоєнням\n",
    "\n",
    "Новими для вас можуть виявитися позначення рівності: == (два знака \"дорівнює\"); а також нерівності  ! =. \n",
    "\n",
    "\n",
    "Тут слід звернути увагу на наступне: не плутайте операцію присвоювання, що позначається в мові Python одиночним знаком \"дорівнює\", і операцію порівняння (два знака \"дорівнює\"). Присвоєння і порівняння - абсолютно різні операції."
   ]
  },
  {
   "cell_type": "markdown",
   "metadata": {},
   "source": [
    "### Від теорії до практики"
   ]
  },
  {
   "cell_type": "code",
   "execution_count": 1,
   "metadata": {},
   "outputs": [
    {
     "data": {
      "text/plain": [
       "1"
      ]
     },
     "execution_count": 1,
     "metadata": {},
     "output_type": "execute_result"
    }
   ],
   "source": [
    "int(True) # метод int() перетворює аргумент в ціле число"
   ]
  },
  {
   "cell_type": "code",
   "execution_count": 3,
   "metadata": {},
   "outputs": [
    {
     "data": {
      "text/plain": [
       "0"
      ]
     },
     "execution_count": 3,
     "metadata": {},
     "output_type": "execute_result"
    }
   ],
   "source": [
    "int(False)"
   ]
  },
  {
   "cell_type": "code",
   "execution_count": 4,
   "metadata": {},
   "outputs": [
    {
     "data": {
      "text/plain": [
       "True"
      ]
     },
     "execution_count": 4,
     "metadata": {},
     "output_type": "execute_result"
    }
   ],
   "source": [
    "bool(1) # аналогічний метод"
   ]
  },
  {
   "cell_type": "code",
   "execution_count": 5,
   "metadata": {},
   "outputs": [
    {
     "data": {
      "text/plain": [
       "True"
      ]
     },
     "execution_count": 5,
     "metadata": {},
     "output_type": "execute_result"
    }
   ],
   "source": [
    "bool(2)"
   ]
  },
  {
   "cell_type": "code",
   "execution_count": 6,
   "metadata": {},
   "outputs": [
    {
     "data": {
      "text/plain": [
       "True"
      ]
     },
     "execution_count": 6,
     "metadata": {},
     "output_type": "execute_result"
    }
   ],
   "source": [
    "bool(-1)"
   ]
  },
  {
   "cell_type": "code",
   "execution_count": 7,
   "metadata": {},
   "outputs": [
    {
     "data": {
      "text/plain": [
       "False"
      ]
     },
     "execution_count": 7,
     "metadata": {},
     "output_type": "execute_result"
    }
   ],
   "source": [
    "bool(0)"
   ]
  },
  {
   "cell_type": "code",
   "execution_count": null,
   "metadata": {},
   "outputs": [],
   "source": [
    "x = 12 - 5 # це не логічна операція,\n",
    "# а операція присвоювання змінної x результату виразу 12 - 5 \n",
    "x == 4 # x дорівнює 4\n",
    "x == 7 # x дорівнює 7\n",
    "x! = 7 # x НЕ дорівнює 7\n",
    "x! = 4 # x НЕ дорівнює 4 \n",
    "x> 5 # x більше 5 \n",
    "x <5 # x менше 5\n",
    "x> = 6 # x більше або дорівнює 6 \n",
    "x <= 6 # x менше або дорівнює 6"
   ]
  },
  {
   "cell_type": "code",
   "execution_count": 3,
   "metadata": {},
   "outputs": [],
   "source": [
    "q = 5"
   ]
  },
  {
   "cell_type": "code",
   "execution_count": 4,
   "metadata": {},
   "outputs": [
    {
     "data": {
      "text/plain": [
       "False"
      ]
     },
     "execution_count": 4,
     "metadata": {},
     "output_type": "execute_result"
    }
   ],
   "source": [
    "q == 4"
   ]
  },
  {
   "cell_type": "code",
   "execution_count": 5,
   "metadata": {},
   "outputs": [
    {
     "data": {
      "text/plain": [
       "True"
      ]
     },
     "execution_count": 5,
     "metadata": {},
     "output_type": "execute_result"
    }
   ],
   "source": [
    "q!=3"
   ]
  },
  {
   "cell_type": "code",
   "execution_count": 6,
   "metadata": {},
   "outputs": [
    {
     "data": {
      "text/plain": [
       "True"
      ]
     },
     "execution_count": 6,
     "metadata": {},
     "output_type": "execute_result"
    }
   ],
   "source": [
    "q > 4"
   ]
  },
  {
   "cell_type": "code",
   "execution_count": 7,
   "metadata": {},
   "outputs": [
    {
     "data": {
      "text/plain": [
       "False"
      ]
     },
     "execution_count": 7,
     "metadata": {},
     "output_type": "execute_result"
    }
   ],
   "source": [
    "q <1"
   ]
  },
  {
   "cell_type": "markdown",
   "metadata": {},
   "source": [
    "### Складніші логічні вирази"
   ]
  },
  {
   "cell_type": "code",
   "execution_count": 2,
   "metadata": {},
   "outputs": [],
   "source": [
    "f = 7\n",
    "k = 10"
   ]
  },
  {
   "cell_type": "code",
   "execution_count": 4,
   "metadata": {},
   "outputs": [
    {
     "data": {
      "text/plain": [
       "False"
      ]
     },
     "execution_count": 4,
     "metadata": {},
     "output_type": "execute_result"
    }
   ],
   "source": [
    "(f > 10 and k < 3) # and в перекл. \"i\""
   ]
  },
  {
   "cell_type": "code",
   "execution_count": 12,
   "metadata": {},
   "outputs": [
    {
     "data": {
      "text/plain": [
       "True"
      ]
     },
     "execution_count": 12,
     "metadata": {},
     "output_type": "execute_result"
    }
   ],
   "source": [
    "f < 4 or k > 3 # or в перекл. \"або\""
   ]
  },
  {
   "cell_type": "code",
   "execution_count": 13,
   "metadata": {},
   "outputs": [
    {
     "data": {
      "text/plain": [
       "True"
      ]
     },
     "execution_count": 13,
     "metadata": {},
     "output_type": "execute_result"
    }
   ],
   "source": [
    "f < 4*20"
   ]
  },
  {
   "cell_type": "markdown",
   "metadata": {},
   "source": [
    "### Як ви помітили and вимагає правильність всіх виразів, а or хоча б одного"
   ]
  },
  {
   "cell_type": "markdown",
   "metadata": {},
   "source": [
    "Домашня робота \n",
    "1. Присвойте двом змінним  будь-які числові значення.\n",
    "2. Склаідть чотири складних логічні вирази за допомогою оператора and, два  з яких мають давати істину, а два інших в не істину.\n",
    "3. Аналогічно виконайте пункт 2, але вже з оператором or\n",
    "4. Спробуйте викорристати у складних логічних виразах роботу зі змінними типу str."
   ]
  }
 ],
 "metadata": {
  "kernelspec": {
   "display_name": "Python 3",
   "language": "python",
   "name": "python3"
  },
  "language_info": {
   "codemirror_mode": {
    "name": "ipython",
    "version": 3
   },
   "file_extension": ".py",
   "mimetype": "text/x-python",
   "name": "python",
   "nbconvert_exporter": "python",
   "pygments_lexer": "ipython3",
   "version": "3.7.1"
  }
 },
 "nbformat": 4,
 "nbformat_minor": 2
}
