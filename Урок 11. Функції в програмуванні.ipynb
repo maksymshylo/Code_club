{
 "cells": [
  {
   "cell_type": "markdown",
   "metadata": {},
   "source": [
    "**Функції** в програмуванні можна уявляти як ізольваний блок коду, звернення до якого в процесі виконання програми може бути багаторазовим.\n",
    "\n",
    "### Навіщо потрібні блоки  конструкцій ?\n",
    "\n",
    "У першу чергу, щоб скоротити об'єм вихідного коду:\n",
    "\n",
    "**раціонально вивести часто повторювані вирази в окремий блок і, потім, по мірі необхідності, звертатися до нього**.\n",
    "____\n",
    "\n",
    "Уявімо собі наступну ситуацію. \n",
    "\n",
    "Необхідно написати програму, яка при виконанні повинна три рази запитувати у користувача різні дані, але виконувати з ними одні і ті ж дії."
   ]
  },
  {
   "cell_type": "code",
   "execution_count": 1,
   "metadata": {},
   "outputs": [
    {
     "name": "stdout",
     "output_type": "stream",
     "text": [
      "Уведіть перше число: 1\n",
      "Уведіть друге число: 2\n",
      "1\n",
      "Уведіть перше число: 4\n",
      "Уведіть друге число: 2\n",
      "2\n",
      "Уведіть перше число: 7\n",
      "Уведіть друге число: 10\n",
      "3\n"
     ]
    }
   ],
   "source": [
    "a = int(input('Уведіть перше число: '))\n",
    "b = int(input('Уведіть друге число: '))\n",
    "if a > b:\n",
    "    print(a-b)\n",
    "else:\n",
    "    print(b-a)\n",
    "    \n",
    "\n",
    "c = int(input('Уведіть перше число: '))\n",
    "d = int(input('Уведіть друге число: '))\n",
    "if c > d:\n",
    "    print(c-d)\n",
    "else:\n",
    "    print(d-c)\n",
    "    \n",
    "    \n",
    "e = int(input('Уведіть перше число: '))\n",
    "f = int(input('Уведіть друге число: '))\n",
    "if e > f:\n",
    "    print(e-f)\n",
    "else:\n",
    "    print(f-e)"
   ]
  },
  {
   "cell_type": "markdown",
   "metadata": {},
   "source": [
    "**Дана програма знаходить модуль різниці двох чисел**. \n",
    "\n",
    "Очевидно, що такий запис коду **не** раціональний:\n",
    "\n",
    "виходить три майже однакових блоки коду.\n",
    "\n",
    "Чому б не використати цикл **while** для організації повторення?"
   ]
  },
  {
   "cell_type": "code",
   "execution_count": 3,
   "metadata": {},
   "outputs": [
    {
     "name": "stdout",
     "output_type": "stream",
     "text": [
      "Уведіть перше число: 4\n",
      "Уведіть друге число: 5\n",
      "1\n",
      "Уведіть перше число: 7\n",
      "Уведіть друге число: 3\n",
      "4\n",
      "Уведіть перше число: 8\n",
      "Уведіть друге число: 0\n",
      "8\n"
     ]
    }
   ],
   "source": [
    "i = 0\n",
    "\n",
    "while i < 3:\n",
    "    a = int(input('Уведіть перше число: '))\n",
    "    b = int(input('Уведіть друге число: '))\n",
    "    if a > b:\n",
    "        print(a-b)\n",
    "    else:\n",
    "        print(b-a)\n",
    "    i = i + 1"
   ]
  },
  {
   "cell_type": "markdown",
   "metadata": {},
   "source": [
    "___\n",
    "Однак, в даному випадку є один нюанс.\n",
    "\n",
    "Ввідні користувачем дані завжди зв'язуються зі змінними **a  і  b**.\n",
    "\n",
    "Прикожному запуску циклу  попередні дані втрачаються.\n",
    "\n",
    "Що ж робити, якщо всі шість чисел, уведених користуачем потрібно зберегти для подальшого використання в програмі?\n",
    "___\n",
    "\n",
    "## Розглянемо вирішення цієї задачі з використанням функції."
   ]
  },
  {
   "cell_type": "code",
   "execution_count": 1,
   "metadata": {},
   "outputs": [],
   "source": [
    "def func(a,b):\n",
    "    if a > b:\n",
    "        print(a-b)\n",
    "    else:\n",
    "        print(b-a)"
   ]
  },
  {
   "cell_type": "code",
   "execution_count": 2,
   "metadata": {},
   "outputs": [
    {
     "name": "stdout",
     "output_type": "stream",
     "text": [
      "2\n"
     ]
    }
   ],
   "source": [
    "func(6,8)"
   ]
  },
  {
   "cell_type": "code",
   "execution_count": 3,
   "metadata": {},
   "outputs": [
    {
     "name": "stdout",
     "output_type": "stream",
     "text": [
      "9.55\n"
     ]
    }
   ],
   "source": [
    "func(10, 0.45)"
   ]
  },
  {
   "cell_type": "markdown",
   "metadata": {},
   "source": [
    "**def** - це інструкція(команда) язика програмування Python, що дозволяє створювати функцію.\n",
    "\n",
    "**func** - це ім'я функції, яке так само як ім'я змінної може бути будь-яким, але бажано щоб мало сенс.\n",
    "\n",
    "Після, в дужках перераховуються параметри(аргументи) функції. Якщо їх немає то лапки залишаються пустими.\n",
    "\n",
    "Далі йде **двокрапка**, що визначає закінчення заголовка функції.\n",
    "\n",
    "Після заголовку  з нової стрічки  і з відступом слідує вираз тіла функції.\n",
    "\n",
    "У кінці тіла  функції присутня конструкція **return** (може бути і не бути), яка повертає значення в основну гілку програми.\n",
    "\n",
    "В даному випадку, як би у функції не було інструкції **return**, то  в основну програму нічого б не поверталось, і змінним **a  і  b** числовы значення не прив'язувались."
   ]
  },
  {
   "cell_type": "markdown",
   "metadata": {},
   "source": [
    "___\n",
    "### Наведемо ще один приклад"
   ]
  },
  {
   "cell_type": "code",
   "execution_count": 6,
   "metadata": {},
   "outputs": [
    {
     "name": "stdout",
     "output_type": "stream",
     "text": [
      "1:прямокутник, 2:коло, 3:прямокутний трикутник3\n",
      "Гіпотенуза = 5\n",
      "Катет 1 = 3\n",
      "Катет 2 = 4\n",
      "Площа =  6.0\n"
     ]
    }
   ],
   "source": [
    "figure = input(\"1:прямокутник, 2:коло, 3:прямокутний трикутник\")\n",
    "\n",
    "if figure == '1':\n",
    "    a = float(input(\"Ширина = \"))\n",
    "    b = float(input(\"Довжина = \"))\n",
    "    print(\"Площа = \", a*b)\n",
    "elif figure == '2':\n",
    "    r = float(input(\"Радіус = \"))\n",
    "    print(\"Площа = \", 3.14*(r**2))\n",
    "elif figure == '3':\n",
    "    g = float(input(\"Гіпотенуза = \"))\n",
    "    k1 = float(input(\"Катет 1 = \"))\n",
    "    k2 = float(input(\"Катет 2 = \"))\n",
    "    if g**2 == k1**2 + k2**2:\n",
    "        print(\"Площа = \", 0.5*k1*k2)\n",
    "    else:\n",
    "        print(\"Уведені дані не створюють прямокутний трикутник\")\n",
    "else:\n",
    "    print(\"Помилка вводу\")"
   ]
  },
  {
   "cell_type": "markdown",
   "metadata": {},
   "source": [
    "### Тепер напишемо варіант з функціями"
   ]
  },
  {
   "cell_type": "code",
   "execution_count": 2,
   "metadata": {},
   "outputs": [],
   "source": [
    "def rectangle():\n",
    "    a = float(input(\"Ширина = \"))\n",
    "    b = float(input(\"Довжина = \"))\n",
    "    print(\"Площа = \", a*b)\n",
    "\n",
    "def circle():\n",
    "    r = float(input(\"Радіус = \"))\n",
    "    print(\"Площа = \", 3.14*(r**2))\n",
    "    \n",
    "def triangle():\n",
    "    g = float(input(\"Гіпотенуза = \"))\n",
    "    k1 = float(input(\"Катет 1 = \"))\n",
    "    k2 = float(input(\"Катет 2 = \"))\n",
    "    if g**2 == k1**2 + k2**2:\n",
    "        print(\"Площа = \", 0.5*k1*k2)\n",
    "    else:\n",
    "        print(\"Уведені дані не створюють прямокутний трикутник\")    "
   ]
  },
  {
   "cell_type": "code",
   "execution_count": 9,
   "metadata": {},
   "outputs": [
    {
     "name": "stdout",
     "output_type": "stream",
     "text": [
      "1:прямокутник, 2:коло, 3:прямокутний трикутник3\n",
      "Гіпотенуза = 5\n",
      "Катет 1 = 4\n",
      "Катет 2 = 2\n",
      "Уведені дані не створюють прямокутний трикутник\n"
     ]
    }
   ],
   "source": [
    "figure = input(\"1:прямокутник, 2:коло, 3:прямокутний трикутник\")\n",
    "if figure == '1':\n",
    "    rectangle()\n",
    "elif figure == '2':\n",
    "    circle()\n",
    "elif figure == '3':\n",
    "    triangle()\n",
    "else:\n",
    "    print(\"Помилка вводу\")"
   ]
  },
  {
   "cell_type": "code",
   "execution_count": 3,
   "metadata": {},
   "outputs": [
    {
     "name": "stdout",
     "output_type": "stream",
     "text": [
      "Ширина = 56\n",
      "Довжина = 78\n",
      "Площа =  4368.0\n"
     ]
    }
   ],
   "source": [
    "rectangle()"
   ]
  },
  {
   "cell_type": "code",
   "execution_count": 4,
   "metadata": {},
   "outputs": [
    {
     "name": "stdout",
     "output_type": "stream",
     "text": [
      "Радіус = 45\n",
      "Площа =  6358.5\n"
     ]
    }
   ],
   "source": [
    "circle()"
   ]
  },
  {
   "cell_type": "markdown",
   "metadata": {},
   "source": [
    "## Функції з аргументами та return"
   ]
  },
  {
   "cell_type": "code",
   "execution_count": 19,
   "metadata": {},
   "outputs": [],
   "source": [
    "# АЛГОРИТМ ЛІНІЙНОГО ПОШУКУ\n",
    "\n",
    "a = [3,4,\"fog\",6,7,\"cat\",9]       # список елементів\n",
    "\n",
    "def linear_search(list, value):   # функція приймає list - список, value - шуканий елемент.\n",
    "    for i in range(0, len(list)): # запуск циклу \n",
    "        if list[i] == value:      # перевірка чи елемент списку є такий самий як і шуканий\n",
    "            return i              # повертає індекс, а точніше номер індексації під яким стоїть шуканий елемент\n",
    "    return -1                     # повертає -1 при НЕ знаходженні  шуканого елементу"
   ]
  },
  {
   "cell_type": "code",
   "execution_count": 20,
   "metadata": {},
   "outputs": [
    {
     "data": {
      "text/plain": [
       "4"
      ]
     },
     "execution_count": 20,
     "metadata": {},
     "output_type": "execute_result"
    }
   ],
   "source": [
    "linear_search(a, 7)"
   ]
  },
  {
   "cell_type": "code",
   "execution_count": 21,
   "metadata": {},
   "outputs": [
    {
     "data": {
      "text/plain": [
       "7"
      ]
     },
     "execution_count": 21,
     "metadata": {},
     "output_type": "execute_result"
    }
   ],
   "source": [
    "a[4]"
   ]
  },
  {
   "cell_type": "code",
   "execution_count": 22,
   "metadata": {},
   "outputs": [
    {
     "data": {
      "text/plain": [
       "-1"
      ]
     },
     "execution_count": 22,
     "metadata": {},
     "output_type": "execute_result"
    }
   ],
   "source": [
    "linear_search(a, 12)"
   ]
  },
  {
   "cell_type": "markdown",
   "metadata": {},
   "source": [
    "## Різниця між rerurn і print( )"
   ]
  },
  {
   "cell_type": "code",
   "execution_count": 1,
   "metadata": {},
   "outputs": [],
   "source": [
    "def call_print(a, b):\n",
    "    print (a)\n",
    "    print (b)\n",
    "    print (a*b)\n",
    "\n",
    "def call_return(a, b):\n",
    "    return a\n",
    "    return b\n",
    "    return a*b"
   ]
  },
  {
   "cell_type": "code",
   "execution_count": 2,
   "metadata": {},
   "outputs": [
    {
     "name": "stdout",
     "output_type": "stream",
     "text": [
      "3\n",
      "5\n",
      "15\n"
     ]
    }
   ],
   "source": [
    "call_print(3,5)"
   ]
  },
  {
   "cell_type": "code",
   "execution_count": 3,
   "metadata": {},
   "outputs": [
    {
     "data": {
      "text/plain": [
       "3"
      ]
     },
     "execution_count": 3,
     "metadata": {},
     "output_type": "execute_result"
    }
   ],
   "source": [
    "call_return(3,5)"
   ]
  },
  {
   "cell_type": "code",
   "execution_count": 5,
   "metadata": {},
   "outputs": [
    {
     "data": {
      "text/plain": [
       "15"
      ]
     },
     "execution_count": 5,
     "metadata": {},
     "output_type": "execute_result"
    }
   ],
   "source": [
    "call_return(3,5) * 5"
   ]
  },
  {
   "cell_type": "code",
   "execution_count": 6,
   "metadata": {},
   "outputs": [
    {
     "name": "stdout",
     "output_type": "stream",
     "text": [
      "3\n",
      "5\n",
      "15\n"
     ]
    },
    {
     "ename": "TypeError",
     "evalue": "unsupported operand type(s) for *: 'NoneType' and 'int'",
     "output_type": "error",
     "traceback": [
      "\u001b[1;31m---------------------------------------------------------------------------\u001b[0m",
      "\u001b[1;31mTypeError\u001b[0m                                 Traceback (most recent call last)",
      "\u001b[1;32m<ipython-input-6-5e1e37833819>\u001b[0m in \u001b[0;36m<module>\u001b[1;34m\u001b[0m\n\u001b[1;32m----> 1\u001b[1;33m \u001b[0mcall_print\u001b[0m\u001b[1;33m(\u001b[0m\u001b[1;36m3\u001b[0m\u001b[1;33m,\u001b[0m\u001b[1;36m5\u001b[0m\u001b[1;33m)\u001b[0m \u001b[1;33m*\u001b[0m \u001b[1;36m5\u001b[0m\u001b[1;33m\u001b[0m\u001b[1;33m\u001b[0m\u001b[0m\n\u001b[0m",
      "\u001b[1;31mTypeError\u001b[0m: unsupported operand type(s) for *: 'NoneType' and 'int'"
     ]
    }
   ],
   "source": [
    "call_print(3,5) * 5 "
   ]
  },
  {
   "cell_type": "markdown",
   "metadata": {},
   "source": [
    "### Домашня робота\n",
    "\n",
    "1. Напишіть функцію, яка обчислює суму трьох чисел і повертає\n",
    "результат в основну гілку програми.\n",
    "\n",
    "\n",
    "2. Придумайте програму, в якій з однієї функції викликається друга. При\n",
    "цьому ні одна з них ніщо не повертає в основну гілку програми, обидві\n",
    "повинні виводити результати своєї роботи за допомогою функції print ().\n",
    "\n",
    "\n",
    "\n",
    "3. Написати функцію is_prime, приймаю 1 аргумент - число від 0 до 1000, і повертаю True, якщо це просто, і False - інше.\n",
    "\n",
    "\n",
    "\n",
    "4. Написати функцію is_year_leap, приймаючу 1 аргумент - рік, і повертає True, якщо рік високосний, і False інакше.\n",
    "\n",
    "\n",
    "\n",
    "5. Написати функцію arithmetic, приймаючу 3 аргументb:\n",
    "\n",
    "   перші 2 - числа, \n",
    "\n",
    "   третій - операція, яка повинна бути проведена над ними.\n",
    "\n",
    "   Якщо третій аргумент +, скласти їх;\n",
    "\n",
    "   якщо -, то відняти; \n",
    "\n",
    "   * - помножити;\n",
    "\n",
    "   / - розділити (перше на друге). \n",
    "\n",
    "   В інших випадках повернути рядок \"Невідома операція\"."
   ]
  }
 ],
 "metadata": {
  "kernelspec": {
   "display_name": "Python 3",
   "language": "python",
   "name": "python3"
  },
  "language_info": {
   "codemirror_mode": {
    "name": "ipython",
    "version": 3
   },
   "file_extension": ".py",
   "mimetype": "text/x-python",
   "name": "python",
   "nbconvert_exporter": "python",
   "pygments_lexer": "ipython3",
   "version": "3.7.1"
  }
 },
 "nbformat": 4,
 "nbformat_minor": 2
}
