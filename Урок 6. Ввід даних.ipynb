{
 "cells": [
  {
   "cell_type": "markdown",
   "metadata": {},
   "source": [
    "Компю'терні програми обробляють дані,робляючи над ними операції,\n",
    "які задав програміст, і які були обумовлені поставленими завданнями.\n",
    "\n",
    "\n",
    "Дані в програму можна закласти в процесі розробки. Однак така\n",
    "програма завжди буде обробляти одни і ті ж дані і повертати один і той же\n",
    "результат Частіше вимагається абсолютно інше - програма повинна обробляти\n",
    "різні (відносно, в певному діапазоні) дані, які вступають в неї\n",
    "із зовнішніх джерел. \n",
    "\n",
    "В якості останніх можуть виступати файли або\n",
    "клавіатура.\n",
    "\n",
    "Коли інформація вводиться з клавіатури, а результати виводяться на\n",
    "на екрані монітора, то можна говорити про інтерактивний режим роботи програми.\n",
    "\n",
    "Вона обміняється інформацією з зовнішнім для неї середовищем: може виводити і\n",
    "отримувати дані в процесі виконання, і не є замкнутою сама себе. "
   ]
  },
  {
   "cell_type": "code",
   "execution_count": 1,
   "metadata": {},
   "outputs": [
    {
     "name": "stdout",
     "output_type": "stream",
     "text": [
      "4656\n"
     ]
    },
    {
     "data": {
      "text/plain": [
       "'4656'"
      ]
     },
     "execution_count": 1,
     "metadata": {},
     "output_type": "execute_result"
    }
   ],
   "source": [
    "input()"
   ]
  },
  {
   "cell_type": "code",
   "execution_count": 2,
   "metadata": {},
   "outputs": [
    {
     "name": "stdout",
     "output_type": "stream",
     "text": [
      "4\n"
     ]
    }
   ],
   "source": [
    "a = input()"
   ]
  },
  {
   "cell_type": "code",
   "execution_count": 3,
   "metadata": {},
   "outputs": [
    {
     "data": {
      "text/plain": [
       "'4'"
      ]
     },
     "execution_count": 3,
     "metadata": {},
     "output_type": "execute_result"
    }
   ],
   "source": [
    "a"
   ]
  },
  {
   "cell_type": "code",
   "execution_count": 4,
   "metadata": {},
   "outputs": [
    {
     "name": "stdout",
     "output_type": "stream",
     "text": [
      "Уведіть кількість книжок: 5\n"
     ]
    },
    {
     "data": {
      "text/plain": [
       "'5'"
      ]
     },
     "execution_count": 4,
     "metadata": {},
     "output_type": "execute_result"
    }
   ],
   "source": [
    "input(\"Уведіть кількість книжок: \")"
   ]
  },
  {
   "cell_type": "code",
   "execution_count": 5,
   "metadata": {},
   "outputs": [
    {
     "name": "stdout",
     "output_type": "stream",
     "text": [
      "Уведіть ваше ім'я: Kyrylo\n"
     ]
    }
   ],
   "source": [
    "name = input(\"Уведіть ваше ім'я: \")"
   ]
  },
  {
   "cell_type": "code",
   "execution_count": 6,
   "metadata": {},
   "outputs": [
    {
     "data": {
      "text/plain": [
       "'Kyrylo'"
      ]
     },
     "execution_count": 6,
     "metadata": {},
     "output_type": "execute_result"
    }
   ],
   "source": [
    "name"
   ]
  },
  {
   "cell_type": "code",
   "execution_count": 7,
   "metadata": {},
   "outputs": [
    {
     "name": "stdout",
     "output_type": "stream",
     "text": [
      "2*3= 6\n"
     ]
    }
   ],
   "source": [
    "var = input('2*3= ')"
   ]
  },
  {
   "cell_type": "code",
   "execution_count": 9,
   "metadata": {},
   "outputs": [
    {
     "data": {
      "text/plain": [
       "'6'"
      ]
     },
     "execution_count": 9,
     "metadata": {},
     "output_type": "execute_result"
    }
   ],
   "source": [
    "var"
   ]
  },
  {
   "cell_type": "markdown",
   "metadata": {},
   "source": [
    "## Домашня робота \n",
    "\n",
    "1. Створіть скрипт(файл data.py), що буде запитувати у користувача:\n",
    "\n",
    "\n",
    "- його *ім'я*: \"What is your name?\"\n",
    "- *вік*: \"How old are you?\"\n",
    "- *країна в якій проживає* : \"Where are you from?\"\n",
    "\n",
    "а потім воводив три стрічки:\n",
    "\n",
    "\n",
    "- \"This is *ім'я*\"\n",
    "- \"You are *вік*\"\n",
    "- \"You live in *країна в якій проживає*\"\n",
    "\n",
    "\n",
    "2. Напишіть програму ( файл example.py), яка пропонувала б користувачу вирішити приклад 4**100 - 54.\n",
    "Якщо користувач напише правильну відповідь , то отримає вітання від програми, інакше - програма повідомить йому про помилку.(При вирішенні задачі використайте конструкцію *if - else*)\n",
    "\n",
    "\n",
    "3. Перепишіть попередню програму так, щоб користувачу пропонувалось вирішити приклад до тих пір, поки він не введе правильну відповідь.\n",
    "(При вирішенні задачі використайте цикл *while*)"
   ]
  }
 ],
 "metadata": {
  "kernelspec": {
   "display_name": "Python 3",
   "language": "python",
   "name": "python3"
  },
  "language_info": {
   "codemirror_mode": {
    "name": "ipython",
    "version": 3
   },
   "file_extension": ".py",
   "mimetype": "text/x-python",
   "name": "python",
   "nbconvert_exporter": "python",
   "pygments_lexer": "ipython3",
   "version": "3.7.1"
  }
 },
 "nbformat": 4,
 "nbformat_minor": 2
}
