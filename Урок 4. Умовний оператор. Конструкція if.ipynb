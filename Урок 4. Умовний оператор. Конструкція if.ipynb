{
 "cells": [
  {
   "cell_type": "markdown",
   "metadata": {},
   "source": [
    "Хід виконання програми може бути лінійним, тобто таким, коли вираз виконуються, починаючи з першого і закінчуючи останнім, по порядку, не пропускаючи жодного рядка коду. \n",
    "\n",
    "Але частіше буває зовсім не так. При виконанні програмного коду деякі його ділянки можуть бути пропущені. Щоб краще зрозуміти чому, проведемо аналогію з реальним життям.\n",
    "\n",
    "Припустимо, людина живе за розкладом (можна сказати, розклад - це своєрідний \"програмний код\", який слід виконати). У його розкладі о 18.00 стоїть похід в басейн. Однак людині надходить інформація, що воду злили, і басейн не працює. Цілком логічно скасувати своє заняття з плавання. Тобто однією з умов відвідування басейну повинно бути його функціонування, інакше повинні виконуватися інші дії."
   ]
  },
  {
   "cell_type": "markdown",
   "metadata": {},
   "source": [
    "# 1. Конструкція  if"
   ]
  },
  {
   "cell_type": "markdown",
   "metadata": {},
   "source": [
    "### if вираз:\n",
    "\n",
    "     інструкція_1\n",
    "     \n",
    "     інструкція_2\n",
    "     ...\n",
    "     \n",
    "     інструкція_n"
   ]
  },
  {
   "cell_type": "markdown",
   "metadata": {},
   "source": [
    "### Після оператора if записується вираз. Якщо цей вислів істинний, то виконуються інструкції, які визначаються даними оператором. Вираз є істинним, якщо його результатом є число не рівне нулю, непорожній об'єкт, або логічне True. Після висловлення потрібно поставити двокрапку \":\"."
   ]
  },
  {
   "cell_type": "markdown",
   "metadata": {},
   "source": [
    "## Приклади"
   ]
  },
  {
   "cell_type": "code",
   "execution_count": 3,
   "metadata": {},
   "outputs": [
    {
     "name": "stdout",
     "output_type": "stream",
     "text": [
      "Hello_1\n"
     ]
    }
   ],
   "source": [
    "a = 4 \n",
    "if a < 10:\n",
    "    print(\"Hello_1\")"
   ]
  },
  {
   "cell_type": "code",
   "execution_count": 4,
   "metadata": {},
   "outputs": [
    {
     "name": "stdout",
     "output_type": "stream",
     "text": [
      "Hello_2\n"
     ]
    }
   ],
   "source": [
    "b = 3*a\n",
    "if a!=b:\n",
    "    print(\"Hello_2\")"
   ]
  },
  {
   "cell_type": "markdown",
   "metadata": {},
   "source": [
    "# 2. Конструкція  if - else"
   ]
  },
  {
   "cell_type": "markdown",
   "metadata": {},
   "source": [
    "Бувають випадки, коли необхідно передбачити альтернативний варіант виконання програми. Тобто при істинному умови потрібно виконати один набір інструкцій, при помилковому - інший. Для цього використовується конструкція if - else."
   ]
  },
  {
   "cell_type": "markdown",
   "metadata": {},
   "source": [
    "### if вираз:\n",
    "\n",
    "     інструкція_1\n",
    "     \n",
    "     інструкція_2\n",
    "     ...\n",
    "     інструкція_n\n",
    "### else:\n",
    "\n",
    "     інструкція_a\n",
    "     \n",
    "     інструкція_b\n",
    "     ...\n",
    "     інструкція_x"
   ]
  },
  {
   "cell_type": "markdown",
   "metadata": {},
   "source": [
    "## Приклади"
   ]
  },
  {
   "cell_type": "code",
   "execution_count": 1,
   "metadata": {},
   "outputs": [
    {
     "name": "stdout",
     "output_type": "stream",
     "text": [
      "F\n"
     ]
    }
   ],
   "source": [
    "a = 1\n",
    "if a > 2:\n",
    "   print(\"T\")\n",
    "else:\n",
    "   print(\"F\")"
   ]
  },
  {
   "cell_type": "code",
   "execution_count": 11,
   "metadata": {},
   "outputs": [
    {
     "name": "stdout",
     "output_type": "stream",
     "text": [
      "F\n"
     ]
    }
   ],
   "source": [
    "q = 9 \n",
    "if q**4 < pow(q,4):\n",
    "    print(\"T\")\n",
    "else:\n",
    "    print(\"F\")"
   ]
  },
  {
   "cell_type": "code",
   "execution_count": 14,
   "metadata": {},
   "outputs": [
    {
     "data": {
      "text/plain": [
       "True"
      ]
     },
     "execution_count": 14,
     "metadata": {},
     "output_type": "execute_result"
    }
   ],
   "source": [
    "a = 17\n",
    "b = True if a > 10 else False\n",
    "b"
   ]
  },
  {
   "cell_type": "markdown",
   "metadata": {},
   "source": [
    "# 3. Конструкція if – elif – else"
   ]
  },
  {
   "cell_type": "markdown",
   "metadata": {},
   "source": [
    "Для реалізації вибору з декількох альтернатив можна використовувати конструкцію if - elif - else."
   ]
  },
  {
   "cell_type": "markdown",
   "metadata": {},
   "source": [
    "### if вираз_1:\n",
    "    \n",
    "     інструкції_ (блок_1)\n",
    "        \n",
    "### elif вираз_2:\n",
    "    \n",
    "     інструкцї_ (блок_2)\n",
    "        \n",
    "### elif вираз_3:\n",
    "    \n",
    "     інструкції_ (блок_3)\n",
    "        \n",
    "### else:\n",
    "    \n",
    "     інструкції_ (блок_4)"
   ]
  },
  {
   "cell_type": "markdown",
   "metadata": {},
   "source": [
    "## Приклади"
   ]
  },
  {
   "cell_type": "code",
   "execution_count": 3,
   "metadata": {},
   "outputs": [
    {
     "name": "stdout",
     "output_type": "stream",
     "text": [
      "Уведіть число:5\n",
      "Додатнє\n"
     ]
    }
   ],
   "source": [
    "a = int(input(\"Уведіть число:\")) # фунція input потрібна для того, щоб \n",
    "if a < 0:\n",
    "   print(\"Від'ємне\")\n",
    "elif a == 0:\n",
    "   print(\"Нуль\")\n",
    "else:\n",
    "   print(\"Додатнє\")"
   ]
  },
  {
   "cell_type": "code",
   "execution_count": 4,
   "metadata": {},
   "outputs": [
    {
     "name": "stdout",
     "output_type": "stream",
     "text": [
      "Уведіть число:5\n",
      "НЕ кратне 2 і більше нуля\n"
     ]
    }
   ],
   "source": [
    "d = int(input(\"Уведіть число:\"))\n",
    "if d % 2 == 0:\n",
    "    print(\"Кратне 2\")\n",
    "elif d % 2 != 0 and d >0: \n",
    "    print(\"НЕ кратне 2 і більше нуля\")\n",
    "else:\n",
    "    print(\"Будь- яке інше\")"
   ]
  },
  {
   "cell_type": "markdown",
   "metadata": {},
   "source": [
    "### Домашня робота\n",
    "\n",
    "1. Напишіть програмний код, в якому в разі, якщо значення якоїсь змінної більше 0, виводилося б спеціальне повідомлення (використовуйте функцію print). Один раз виконайте програму при значенні змінної більше 0, вдруге - менше 0.\n",
    "2. Вдосконалить попередній код за допомогою гілки else так, щоб в залежності від значення змінної, виводилася або 1, або -1.\n",
    "3. Самостійно придумайте програму, в якій би використовувалася інструкція if (бажано з гілкою else). Вкладений код повинен містити не менше трьох виразів."
   ]
  }
 ],
 "metadata": {
  "kernelspec": {
   "display_name": "Python 3",
   "language": "python",
   "name": "python3"
  },
  "language_info": {
   "codemirror_mode": {
    "name": "ipython",
    "version": 3
   },
   "file_extension": ".py",
   "mimetype": "text/x-python",
   "name": "python",
   "nbconvert_exporter": "python",
   "pygments_lexer": "ipython3",
   "version": "3.7.1"
  }
 },
 "nbformat": 4,
 "nbformat_minor": 2
}
